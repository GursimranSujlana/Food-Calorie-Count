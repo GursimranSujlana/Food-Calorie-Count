{
 "cells": [
  {
   "cell_type": "code",
   "execution_count": 12,
   "id": "093e8279",
   "metadata": {},
   "outputs": [],
   "source": [
    "import tensorflow as tf\n",
    "import matplotlib.pyplot as plt\n",
    "import tensorflow as tf\n",
    "from tensorflow.keras.preprocessing.image import ImageDataGenerator\n",
    "from tensorflow.keras.applications.mobilenet_v2 import preprocess_input\n",
    "from tensorflow.keras.applications import MobileNetV2\n",
    "from tensorflow.keras.models import Sequential\n",
    "from tensorflow.keras.layers import GlobalAveragePooling2D, Dense, Dropout\n",
    "import pandas as pd"
   ]
  },
  {
   "cell_type": "code",
   "execution_count": 5,
   "id": "6d8e0209",
   "metadata": {},
   "outputs": [
    {
     "name": "stdout",
     "output_type": "stream",
     "text": [
      "Found 19098 images belonging to 34 classes.\n",
      "Found 4775 images belonging to 34 classes.\n"
     ]
    }
   ],
   "source": [
    "#preparing the data\n",
    "train_datagen = ImageDataGenerator(preprocessing_function=preprocess_input)\n",
    "val_datagen = ImageDataGenerator(preprocessing_function=preprocess_input)\n",
    "\n",
    "train_generator = val_datagen.flow_from_directory(\n",
    "    '/Applications/Gursimran/Projects/Image_Classification/train',\n",
    "    target_size=(224, 224),\n",
    "    batch_size=32,\n",
    "    class_mode='categorical')\n",
    "\n",
    "test_generator = train_datagen.flow_from_directory(\n",
    "    '/Applications/Gursimran/Projects/Image_Classification/test',\n",
    "    target_size=(224, 224),\n",
    "    batch_size=32,\n",
    "    class_mode='categorical')\n",
    "\n"
   ]
  },
  {
   "cell_type": "code",
   "execution_count": 7,
   "id": "8b2c0d75",
   "metadata": {},
   "outputs": [],
   "source": [
    "# Load the base model, without its top classification layer, and set it to non-trainable\n",
    "base_model = MobileNetV2(weights='imagenet', include_top=False, input_shape=(224, 224, 3))\n",
    "base_model.trainable = False\n",
    "\n",
    "# Create the custom head for our dataset\n",
    "model = Sequential([\n",
    "    base_model,\n",
    "    GlobalAveragePooling2D(),\n",
    "    Dense(1024, activation='relu'),\n",
    "    Dropout(0.2),\n",
    "    Dense(34, activation='softmax')  # Assuming 'categories' is a list of class names\n",
    "])\n"
   ]
  },
  {
   "cell_type": "code",
   "execution_count": 10,
   "id": "5abdf4fd",
   "metadata": {},
   "outputs": [],
   "source": [
    "#compile the model\n",
    "model.compile(optimizer='adam',\n",
    "              loss='categorical_crossentropy',\n",
    "              metrics=['accuracy'])"
   ]
  },
  {
   "cell_type": "code",
   "execution_count": 11,
   "id": "8e388944",
   "metadata": {},
   "outputs": [
    {
     "name": "stdout",
     "output_type": "stream",
     "text": [
      "Epoch 1/10\n",
      "597/597 [==============================] - 84s 139ms/step - loss: 0.9979 - accuracy: 0.7054\n",
      "Epoch 2/10\n",
      "597/597 [==============================] - 92s 154ms/step - loss: 0.5828 - accuracy: 0.8155\n",
      "Epoch 3/10\n",
      "597/597 [==============================] - 100s 168ms/step - loss: 0.4312 - accuracy: 0.8589\n",
      "Epoch 4/10\n",
      "597/597 [==============================] - 100s 167ms/step - loss: 0.3352 - accuracy: 0.8883\n",
      "Epoch 5/10\n",
      "597/597 [==============================] - 95s 159ms/step - loss: 0.2572 - accuracy: 0.9149\n",
      "Epoch 6/10\n",
      "597/597 [==============================] - 98s 165ms/step - loss: 0.1976 - accuracy: 0.9346\n",
      "Epoch 7/10\n",
      "597/597 [==============================] - 97s 162ms/step - loss: 0.1593 - accuracy: 0.9455\n",
      "Epoch 8/10\n",
      "597/597 [==============================] - 96s 161ms/step - loss: 0.1380 - accuracy: 0.9514\n",
      "Epoch 9/10\n",
      "597/597 [==============================] - 97s 163ms/step - loss: 0.1141 - accuracy: 0.9604\n",
      "Epoch 10/10\n",
      "597/597 [==============================] - 99s 166ms/step - loss: 0.1097 - accuracy: 0.9621\n"
     ]
    }
   ],
   "source": [
    "#train the model\n",
    "history = model.fit(\n",
    "    train_generator,\n",
    "    epochs=10)"
   ]
  },
  {
   "cell_type": "code",
   "execution_count": 16,
   "id": "5b6b4e17",
   "metadata": {},
   "outputs": [
    {
     "name": "stdout",
     "output_type": "stream",
     "text": [
      "150/150 [==============================] - 23s 155ms/step - loss: 0.8117 - accuracy: 0.8126\n",
      "\n",
      "Test accuracy: 0.8125654458999634\n"
     ]
    }
   ],
   "source": [
    "# Assuming you have a test_generator similar to train_generator \n",
    "test_loss, test_acc = model.evaluate(test_generator)\n",
    "print('\\nTest accuracy:', test_acc)"
   ]
  },
  {
   "cell_type": "code",
   "execution_count": 24,
   "id": "6173cda7",
   "metadata": {},
   "outputs": [
    {
     "name": "stdout",
     "output_type": "stream",
     "text": [
      "         Food Item Calories\n",
      "18       Apple Pie      295\n",
      "15    Baked Potato      160\n",
      "24          Burger  295-800\n",
      "28     Butter Naan      260\n",
      "7             Chai       30\n",
      "5          Chapati      104\n",
      "10      Cheesecake      257\n",
      "6    Chicken Curry  200-300\n",
      "21   Chole Bhature      450\n",
      "11  Crispy Chicken  290-350\n",
      "9      Dal Makhani      245\n",
      "17          Dhokla       45\n",
      "8            Donut  250-500\n",
      "31      Fried Rice      240\n",
      "19           Fries      365\n",
      "30         Hot Dog  150-300\n",
      "2        Ice Cream      200\n",
      "20            Idli       39\n",
      "0           Jalebi      150\n",
      "26    Kaathi Rolls  150-350\n",
      "16    Kadai Paneer      290\n",
      "12           Kulfi      200\n",
      "27     Masala Dosa      133\n",
      "14           Momos       35\n",
      "23        Omelette      154\n",
      "13      Paani Puri       10\n",
      "4           Pakode       75\n",
      "22       Pav Bhaji      600\n",
      "29           Pizza      285\n",
      "3           Samosa      262\n",
      "1         Sandwich  200-500\n",
      "25           Sushi  200-400\n",
      "33            Taco  170-250\n",
      "32         Taquito      250\n"
     ]
    }
   ],
   "source": [
    "path = \"/Applications/Gursimran/Projects/Image_Classification/food_calories.xlsx\"\n",
    "try:\n",
    "    df = pd.read_excel(path)\n",
    "    # Sort the DataFrame by 'Food Item' column alphabetically\n",
    "    df_sorted = df.sort_values(by='Food Item')\n",
    "    print(df_sorted)\n",
    "except Exception as e:\n",
    "    print(f\"Error reading the Excel file: {e}\")\n"
   ]
  },
  {
   "cell_type": "code",
   "execution_count": 17,
   "id": "ed97207e",
   "metadata": {},
   "outputs": [
    {
     "name": "stderr",
     "output_type": "stream",
     "text": [
      "/Users/mine/anaconda3/lib/python3.11/site-packages/keras/src/engine/training.py:3103: UserWarning: You are saving your model as an HDF5 file via `model.save()`. This file format is considered legacy. We recommend using instead the native Keras format, e.g. `model.save('my_model.keras')`.\n",
      "  saving_api.save_model(\n"
     ]
    }
   ],
   "source": [
    "model.save('my_model.h5')"
   ]
  },
  {
   "cell_type": "code",
   "execution_count": 18,
   "id": "78a79540",
   "metadata": {},
   "outputs": [],
   "source": [
    "import json\n",
    "\n",
    "# Assuming `train_generator` is your ImageDataGenerator instance\n",
    "class_indices = train_generator.class_indices\n",
    "\n",
    "# Save class_indices to JSON file\n",
    "with open('class_indices.json', 'w') as json_file:\n",
    "    json.dump(class_indices, json_file)"
   ]
  },
  {
   "cell_type": "code",
   "execution_count": 19,
   "id": "1b1142a2",
   "metadata": {},
   "outputs": [
    {
     "data": {
      "text/plain": [
       "{'Baked Potato': 0,\n",
       " 'Crispy Chicken': 1,\n",
       " 'Donut': 2,\n",
       " 'Fries': 3,\n",
       " 'Hot Dog': 4,\n",
       " 'Sandwich': 5,\n",
       " 'Taco': 6,\n",
       " 'Taquito': 7,\n",
       " 'apple_pie': 8,\n",
       " 'burger': 9,\n",
       " 'butter_naan': 10,\n",
       " 'chai': 11,\n",
       " 'chapati': 12,\n",
       " 'cheesecake': 13,\n",
       " 'chicken_curry': 14,\n",
       " 'chole_bhature': 15,\n",
       " 'dal_makhani': 16,\n",
       " 'dhokla': 17,\n",
       " 'fried_rice': 18,\n",
       " 'ice_cream': 19,\n",
       " 'idli': 20,\n",
       " 'jalebi': 21,\n",
       " 'kaathi_rolls': 22,\n",
       " 'kadai_paneer': 23,\n",
       " 'kulfi': 24,\n",
       " 'masala_dosa': 25,\n",
       " 'momos': 26,\n",
       " 'omelette': 27,\n",
       " 'paani_puri': 28,\n",
       " 'pakode': 29,\n",
       " 'pav_bhaji': 30,\n",
       " 'pizza': 31,\n",
       " 'samosa': 32,\n",
       " 'sushi': 33}"
      ]
     },
     "execution_count": 19,
     "metadata": {},
     "output_type": "execute_result"
    }
   ],
   "source": [
    "class_indices"
   ]
  },
  {
   "cell_type": "code",
   "execution_count": 23,
   "id": "40e24099",
   "metadata": {},
   "outputs": [
    {
     "name": "stdout",
     "output_type": "stream",
     "text": [
      "Index(['Food Item', 'Calories'], dtype='object')\n"
     ]
    }
   ],
   "source": [
    "print(df.columns)\n"
   ]
  },
  {
   "cell_type": "code",
   "execution_count": null,
   "id": "162fdc7f",
   "metadata": {},
   "outputs": [],
   "source": []
  },
  {
   "cell_type": "code",
   "execution_count": null,
   "id": "5222a56f",
   "metadata": {},
   "outputs": [],
   "source": []
  },
  {
   "cell_type": "code",
   "execution_count": null,
   "id": "bbc14e0f",
   "metadata": {},
   "outputs": [],
   "source": []
  }
 ],
 "metadata": {
  "kernelspec": {
   "display_name": "Python 3 (ipykernel)",
   "language": "python",
   "name": "python3"
  },
  "language_info": {
   "codemirror_mode": {
    "name": "ipython",
    "version": 3
   },
   "file_extension": ".py",
   "mimetype": "text/x-python",
   "name": "python",
   "nbconvert_exporter": "python",
   "pygments_lexer": "ipython3",
   "version": "3.11.5"
  }
 },
 "nbformat": 4,
 "nbformat_minor": 5
}
